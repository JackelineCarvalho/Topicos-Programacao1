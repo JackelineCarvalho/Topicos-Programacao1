{
 "cells": [
  {
   "cell_type": "markdown",
   "metadata": {},
   "source": [
    "#### UFRJ - Universidade Federal do Rio de Janeiro\n",
    "#### IM   - Instituto de Matemática\n",
    "#### DMA  - Departamento de Matemática Aplicada\n",
    "#### TMAA - Top. Mat. Aplicada A - Programação I"
   ]
  },
  {
   "cell_type": "markdown",
   "metadata": {},
   "source": [
    "###  ED04 - Perfil do Eleitorado 2018\n",
    "### ALUNA: Jackeline Carvalho - DRE: 116043481\n",
    "### Data de entrega: 18 de julho de 2018"
   ]
  },
  {
   "cell_type": "markdown",
   "metadata": {},
   "source": [
    "##### Considerando o seguinte caso hipotético: Você foi recentemente contratado por uma grande empresa de análise de dados e chefe da sua equipe lhe pediu para terminar um programa para produzir gráficos de barra do “Perfil do Eleitorado com base nos dados produzido pelo TSE”. O programa deve apresentar três gráficos de barra com o perfil do eleitorado por UF, por Faixa Etária e por Escolaridade"
   ]
  },
  {
   "cell_type": "code",
   "execution_count": 136,
   "metadata": {},
   "outputs": [],
   "source": [
    "#Importando as bibliotecas que serão usadas:\n",
    "import numpy as np\n",
    "import pandas as pd\n",
    "import math"
   ]
  },
  {
   "cell_type": "markdown",
   "metadata": {},
   "source": [
    "####  Leitura do arquivo  com os dados do perfil eleitorado:\n"
   ]
  },
  {
   "cell_type": "code",
   "execution_count": 143,
   "metadata": {},
   "outputs": [],
   "source": [
    "#Lendo o arquivo:\n",
    "cabecalho = ['ANO', 'UF', 'CIDADE', 'ZONA', 'SECAO', 'SEXO', 'FAIXA_ETARIA', 'GRAU_DE_INSTRUCAO', 'QNT_ELEITORES']\n",
    "perfil_eleitorado = pd.read_csv('perfil_eleitorado_ATUAL.txt',delimiter=';', encoding = 'latin-1', names = cabecalho)"
   ]
  },
  {
   "cell_type": "code",
   "execution_count": 144,
   "metadata": {},
   "outputs": [
    {
     "data": {
      "text/plain": [
       "Index(['ANO', 'UF', 'CIDADE', 'ZONA', 'SECAO', 'SEXO', 'FAIXA_ETARIA',\n",
       "       'GRAU_DE_INSTRUCAO', 'QNT_ELEITORES'],\n",
       "      dtype='object')"
      ]
     },
     "execution_count": 144,
     "metadata": {},
     "output_type": "execute_result"
    }
   ],
   "source": [
    "#verificando as colunas que existem na tabela:\n",
    "perfil_eleitorado.columns"
   ]
  },
  {
   "cell_type": "markdown",
   "metadata": {},
   "source": [
    "####  Construção do gráfico do perfil eleitorado por Faixa Etária:"
   ]
  },
  {
   "cell_type": "code",
   "execution_count": 149,
   "metadata": {},
   "outputs": [
    {
     "data": {
      "text/plain": [
       "array(['16 ANOS', '17 ANOS', '18 A 20 ANOS', '21 A 24 ANOS',\n",
       "       '25 A 34 ANOS', '35 A 44 ANOS', '45 A 59 ANOS', '60 A 69 ANOS',\n",
       "       '70 A 79 ANOS', 'SUPERIOR A 79 ANOS', 'INVÁLIDA'], dtype=object)"
      ]
     },
     "execution_count": 149,
     "metadata": {},
     "output_type": "execute_result"
    }
   ],
   "source": [
    "#verificando as faixas etárias:\n",
    "legendas_faixaetaria = perfil_eleitorado['FAIXA_ETARIA'].unique()\n",
    "legendas_faixaetaria"
   ]
  },
  {
   "cell_type": "code",
   "execution_count": 153,
   "metadata": {},
   "outputs": [
    {
     "data": {
      "text/plain": [
       "array([   3,   19,    2, ..., 4775, 4417, 4100], dtype=int64)"
      ]
     },
     "execution_count": 153,
     "metadata": {},
     "output_type": "execute_result"
    }
   ],
   "source": [
    "perfil_eleitorado['QNT_ELEITORES'].unique()"
   ]
  },
  {
   "cell_type": "code",
   "execution_count": 155,
   "metadata": {},
   "outputs": [
    {
     "data": {
      "text/plain": [
       "FAIXA_ETARIA        SEXO     \n",
       "16 ANOS             FEMININO       193800\n",
       "                    MASCULINO      184860\n",
       "17 ANOS             FEMININO       578438\n",
       "                    MASCULINO      559999\n",
       "18 A 20 ANOS        FEMININO      4171058\n",
       "                    MASCULINO     4048403\n",
       "21 A 24 ANOS        FEMININO      6455059\n",
       "                    MASCULINO     6194690\n",
       "25 A 34 ANOS        FEMININO     16141025\n",
       "                    MASCULINO    15092351\n",
       "35 A 44 ANOS        FEMININO     15745277\n",
       "                    MASCULINO    14384415\n",
       "45 A 59 ANOS        FEMININO     18696935\n",
       "                    MASCULINO    16713516\n",
       "60 A 69 ANOS        FEMININO      8266918\n",
       "                    MASCULINO     7088461\n",
       "70 A 79 ANOS        FEMININO      4298317\n",
       "                    MASCULINO     3472715\n",
       "INVÁLIDA            FEMININO        10820\n",
       "                    MASCULINO       10795\n",
       "SUPERIOR A 79 ANOS  FEMININO      2312954\n",
       "                    MASCULINO     1778529\n",
       "Name: QNT_ELEITORES, dtype: int64"
      ]
     },
     "execution_count": 155,
     "metadata": {},
     "output_type": "execute_result"
    }
   ],
   "source": [
    "# A partir do dataframe, nos dados em que o genero é diferente de 'NAO INFORMADO' \n",
    "\n",
    "masc_e_fem = perfil_eleitorado[perfil_eleitorado['SEXO'] != 'NÃO INFORMADO']\n",
    "\n",
    "# Usando groupby junto com o metodo sum para obter os valores absolutos de eleitores por genero e faixa etaria\n",
    "\n",
    "new_data = masc_e_fem.groupby(['FAIXA_ETARIA', 'SEXO']).sum()['QNT_ELEITORES'] \n",
    "\n",
    "#Agora, um formato adequado para plotar o gráfico:\n",
    "vetor = np.array(new_data)\n",
    "data_plot = vetor.reshape(11,2)"
   ]
  },
  {
   "cell_type": "code",
   "execution_count": 162,
   "metadata": {},
   "outputs": [
    {
     "data": {
      "text/plain": [
       "array([  193800,   184860,   578438,   559999,  4171058,  4048403,\n",
       "        6455059,  6194690, 16141025, 15092351, 15745277, 14384415,\n",
       "       18696935, 16713516,  8266918,  7088461,  4298317,  3472715,\n",
       "          10820,    10795,  2312954,  1778529], dtype=int64)"
      ]
     },
     "execution_count": 162,
     "metadata": {},
     "output_type": "execute_result"
    }
   ],
   "source": [
    "vetor = np.array(new_data)\n",
    "vetor"
   ]
  },
  {
   "cell_type": "code",
   "execution_count": 163,
   "metadata": {},
   "outputs": [
    {
     "data": {
      "text/plain": [
       "array([[  193800,   184860],\n",
       "       [  578438,   559999],\n",
       "       [ 4171058,  4048403],\n",
       "       [ 6455059,  6194690],\n",
       "       [16141025, 15092351],\n",
       "       [15745277, 14384415],\n",
       "       [18696935, 16713516],\n",
       "       [ 8266918,  7088461],\n",
       "       [ 4298317,  3472715],\n",
       "       [   10820,    10795],\n",
       "       [ 2312954,  1778529]], dtype=int64)"
      ]
     },
     "execution_count": 163,
     "metadata": {},
     "output_type": "execute_result"
    }
   ],
   "source": [
    "data_plot = vetor.reshape(11,2)\n",
    "data_plot"
   ]
  },
  {
   "cell_type": "code",
   "execution_count": 164,
   "metadata": {},
   "outputs": [
    {
     "data": {
      "text/plain": [
       "[Text(0,0,'16 ANOS'),\n",
       " Text(0,0,'17 ANOS'),\n",
       " Text(0,0,'18 A 20 ANOS'),\n",
       " Text(0,0,'21 A 24 ANOS'),\n",
       " Text(0,0,'25 A 34 ANOS'),\n",
       " Text(0,0,'35 A 44 ANOS'),\n",
       " Text(0,0,'45 A 59 ANOS'),\n",
       " Text(0,0,'60 A 69 ANOS'),\n",
       " Text(0,0,'70 A 79 ANOS'),\n",
       " Text(0,0,'SUPERIOR A 79 ANOS'),\n",
       " Text(0,0,'INVÁLIDA')]"
      ]
     },
     "execution_count": 164,
     "metadata": {},
     "output_type": "execute_result"
    },
    {
     "data": {
      "image/png": "[encoded data removed]",
      "text/plain": [
       "<matplotlib.figure.Figure at 0x2a481a6a828>"
      ]
     },
     "metadata": {},
     "output_type": "display_data"
    }
   ],
   "source": [
    "df = pd.DataFrame(data=data_plot, columns=['Feminino', 'Masculino'])\n",
    "df.plot(kind = 'bar', title = 'Volume de Eleitores (sexo feminino e masculino) por faixa etária', figsize = (10,5), grid = False).set_xticklabels(legendas_faixaetaria)"
   ]
  },
  {
   "cell_type": "code",
   "execution_count": 160,
   "metadata": {},
   "outputs": [],
   "source": [
    "# help(pd.DataFrame.plot)"
   ]
  },
  {
   "cell_type": "markdown",
   "metadata": {},
   "source": [
    "####  Construção do gráfico do perfil eleitorado por UF:"
   ]
  },
  {
   "cell_type": "code",
   "execution_count": 165,
   "metadata": {},
   "outputs": [
    {
     "data": {
      "text/plain": [
       "array(['AC', 'AL', 'AM', 'AP', 'BA', 'CE', 'DF', 'ES', 'GO', 'MA', 'MG',\n",
       "       'MS', 'MT', 'PA', 'PB', 'PE', 'PI', 'PR', 'RJ', 'RN', 'RO', 'RR',\n",
       "       'RS', 'SC', 'SE', 'SP', 'TO', 'ZZ'], dtype=object)"
      ]
     },
     "execution_count": 165,
     "metadata": {},
     "output_type": "execute_result"
    }
   ],
   "source": [
    "# encontrandos as UF's e colocando em ordem alfabética:\n",
    "ufs = perfil_eleitorado['UF'].unique()\n",
    "ufs.sort()\n",
    "ufs"
   ]
  },
  {
   "cell_type": "code",
   "execution_count": 166,
   "metadata": {},
   "outputs": [],
   "source": [
    "# Usando groupby junto com o metodo sum para obter os valores absolutos de eleitores por genero e UF:\n",
    "new_data2 = masc_e_fem.groupby(['UF', 'SEXO']).sum()['QNT_ELEITORES']\n",
    "\n",
    "#Agora, um formato adequado para plotar o gráfico:\n",
    "vetor2 = np.array(new_data2)\n",
    "data_plot2 = vetor2.reshape(28,2)"
   ]
  },
  {
   "cell_type": "code",
   "execution_count": 167,
   "metadata": {},
   "outputs": [
    {
     "data": {
      "text/plain": [
       "[Text(0,0,'AC'),\n",
       " Text(0,0,'AL'),\n",
       " Text(0,0,'AM'),\n",
       " Text(0,0,'AP'),\n",
       " Text(0,0,'BA'),\n",
       " Text(0,0,'CE'),\n",
       " Text(0,0,'DF'),\n",
       " Text(0,0,'ES'),\n",
       " Text(0,0,'GO'),\n",
       " Text(0,0,'MA'),\n",
       " Text(0,0,'MG'),\n",
       " Text(0,0,'MS'),\n",
       " Text(0,0,'MT'),\n",
       " Text(0,0,'PA'),\n",
       " Text(0,0,'PB'),\n",
       " Text(0,0,'PE'),\n",
       " Text(0,0,'PI'),\n",
       " Text(0,0,'PR'),\n",
       " Text(0,0,'RJ'),\n",
       " Text(0,0,'RN'),\n",
       " Text(0,0,'RO'),\n",
       " Text(0,0,'RR'),\n",
       " Text(0,0,'RS'),\n",
       " Text(0,0,'SC'),\n",
       " Text(0,0,'SE'),\n",
       " Text(0,0,'SP'),\n",
       " Text(0,0,'TO'),\n",
       " Text(0,0,'ZZ')]"
      ]
     },
     "execution_count": 167,
     "metadata": {},
     "output_type": "execute_result"
    },
    {
     "data": {
      "image/png": "[encoded data removed]",
      "text/plain": [
       "<matplotlib.figure.Figure at 0x2a4848abd68>"
      ]
     },
     "metadata": {},
     "output_type": "display_data"
    }
   ],
   "source": [
    "df = pd.DataFrame(data=data_plot2, columns=['Feminino', 'Masculino'])\n",
    "df.plot(kind = 'barh', title = 'Volume de Eleitores (sexo feminino e masculino) por UF', figsize = (7,15), grid = False).set_yticklabels(ufs)"
   ]
  },
  {
   "cell_type": "markdown",
   "metadata": {},
   "source": [
    "####  Construção do gráfico do perfil eleitorado por Escolaridade:"
   ]
  },
  {
   "cell_type": "code",
   "execution_count": 168,
   "metadata": {},
   "outputs": [
    {
     "data": {
      "text/plain": [
       "array(['ANALFABETO', 'ENSINO FUNDAMENTAL COMPLETO',\n",
       "       'ENSINO FUNDAMENTAL INCOMPLETO', 'ENSINO MÉDIO COMPLETO',\n",
       "       'ENSINO MÉDIO INCOMPLETO', 'LÊ E ESCREVE', 'NÃO INFORMADO',\n",
       "       'SUPERIOR COMPLETO', 'SUPERIOR INCOMPLETO'], dtype=object)"
      ]
     },
     "execution_count": 168,
     "metadata": {},
     "output_type": "execute_result"
    }
   ],
   "source": [
    "#Obtendo as escolaridades e colocando em ordem alfabética:\n",
    "escolaridade = perfil_eleitorado['GRAU_DE_INSTRUCAO'].unique()\n",
    "escolaridade.sort()\n",
    "escolaridade"
   ]
  },
  {
   "cell_type": "code",
   "execution_count": 169,
   "metadata": {},
   "outputs": [],
   "source": [
    "# Usando groupby junto com o metodo sum para obter os valores absolutos de eleitores por genero e  Escolaridade:\n",
    "new_data3 = masc_e_fem.groupby(['GRAU_DE_INSTRUCAO', 'SEXO']).sum()['QNT_ELEITORES']\n",
    "\n",
    "#Agora, um formato adequado para plotar o gráfico:\n",
    "vetor3 = np.array(new_data3)\n",
    "data_plot3 = vetor3.reshape(9,2)"
   ]
  },
  {
   "cell_type": "code",
   "execution_count": 170,
   "metadata": {},
   "outputs": [
    {
     "data": {
      "text/plain": [
       "[Text(0,0,'ANALFABETO'),\n",
       " Text(0,0,'ENSINO FUNDAMENTAL COMPLETO'),\n",
       " Text(0,0,'ENSINO FUNDAMENTAL INCOMPLETO'),\n",
       " Text(0,0,'ENSINO MÉDIO COMPLETO'),\n",
       " Text(0,0,'ENSINO MÉDIO INCOMPLETO'),\n",
       " Text(0,0,'LÊ E ESCREVE'),\n",
       " Text(0,0,'NÃO INFORMADO'),\n",
       " Text(0,0,'SUPERIOR COMPLETO'),\n",
       " Text(0,0,'SUPERIOR INCOMPLETO')]"
      ]
     },
     "execution_count": 170,
     "metadata": {},
     "output_type": "execute_result"
    },
    {
     "data": {
      "image/png": "[encoded data removed]",
      "text/plain": [
       "<matplotlib.figure.Figure at 0x2a485e44940>"
      ]
     },
     "metadata": {},
     "output_type": "display_data"
    }
   ],
   "source": [
    "df = pd.DataFrame(data=data_plot3, columns=['Feminino', 'Masculino'])\n",
    "df.plot(kind = 'bar', title = 'Volume de Eleitores (sexo feminino e masculino) por Escolaridade', figsize = (10,5), grid = False).set_xticklabels(escolaridade)"
   ]
  }
 ],
 "metadata": {
  "kernelspec": {
   "display_name": "Python 3",
   "language": "python",
   "name": "python3"
  },
  "language_info": {
   "codemirror_mode": {
    "name": "ipython",
    "version": 3
   },
   "file_extension": ".py",
   "mimetype": "text/x-python",
   "name": "python",
   "nbconvert_exporter": "python",
   "pygments_lexer": "ipython3",
   "version": "3.6.4"
  }
 },
 "nbformat": 4,
 "nbformat_minor": 2
}
